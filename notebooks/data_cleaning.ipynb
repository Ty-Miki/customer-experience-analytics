{
 "cells": [
  {
   "cell_type": "markdown",
   "id": "9c1ad018",
   "metadata": {},
   "source": [
    "- **This notebook will load the reviews and save them to a file using the *GooglePlayReviewScraper* utility class and performs initial data cleaning and inspection procedures**"
   ]
  },
  {
   "cell_type": "code",
   "execution_count": 1,
   "id": "d4f7b2fe",
   "metadata": {},
   "outputs": [
    {
     "data": {
      "text/plain": [
       "['/home/miki/Desktop/KIFIYA/week-2/customer-experience-analytics',\n",
       " '/usr/lib/python312.zip',\n",
       " '/usr/lib/python3.12',\n",
       " '/usr/lib/python3.12/lib-dynload',\n",
       " '',\n",
       " '/home/miki/Desktop/KIFIYA/week-2/customer-experience-analytics/venv/lib/python3.12/site-packages']"
      ]
     },
     "execution_count": 1,
     "metadata": {},
     "output_type": "execute_result"
    }
   ],
   "source": [
    "# Add the parent directory to sys.path\n",
    "import sys, os\n",
    "from pathlib import Path\n",
    "\n",
    "parent_directory = Path(os.getcwd()).parent\n",
    "sys.path.insert(0, str(parent_directory))\n",
    "sys.path"
   ]
  },
  {
   "cell_type": "code",
   "execution_count": 12,
   "id": "80efda97",
   "metadata": {},
   "outputs": [
    {
     "name": "stderr",
     "output_type": "stream",
     "text": [
      "2025-06-06 16:58:34,144 - INFO - Starting review scrape for CBE (App ID: com.combanketh.mobilebanking)\n",
      "2025-06-06 16:58:34,145 - INFO - Fetching 100 reviews... (collected so far: 0)\n",
      "2025-06-06 16:58:38,180 - INFO - Fetching 100 reviews... (collected so far: 100)\n",
      "2025-06-06 16:58:41,319 - INFO - Fetching 100 reviews... (collected so far: 200)\n",
      "2025-06-06 16:58:44,895 - INFO - Fetching 100 reviews... (collected so far: 300)\n",
      "2025-06-06 16:58:53,541 - INFO - Finished scraping. Total reviews collected: 400\n",
      "2025-06-06 16:58:53,567 - INFO - Saved reviews to /home/miki/Desktop/KIFIYA/week-2/customer-experience-analytics/data/cbe_reviews.csv\n"
     ]
    }
   ],
   "source": [
    "# Import scrape reviews and scrape reviews from each bank\n",
    "from scripts.scrape_reviews import main as scrape_reviews\n",
    "\n",
    "scrape_reviews(app_id = \"com.combanketh.mobilebanking\",\n",
    "               bank_name = \"CBE\",\n",
    "               total_reviews = 400,\n",
    "               lang= \"en\",\n",
    "               file_name = f\"{parent_directory}/data/cbe_reviews.csv\",)"
   ]
  },
  {
   "cell_type": "code",
   "execution_count": 13,
   "id": "0756462e",
   "metadata": {},
   "outputs": [
    {
     "name": "stderr",
     "output_type": "stream",
     "text": [
      "2025-06-06 17:07:02,764 - INFO - Starting review scrape for BOA (App ID: com.boa.boaMobileBanking)\n",
      "2025-06-06 17:07:02,766 - INFO - Fetching 100 reviews... (collected so far: 0)\n",
      "2025-06-06 17:07:05,214 - INFO - Fetching 100 reviews... (collected so far: 100)\n",
      "2025-06-06 17:07:07,566 - INFO - Fetching 100 reviews... (collected so far: 200)\n",
      "2025-06-06 17:07:09,389 - INFO - Fetching 100 reviews... (collected so far: 300)\n",
      "2025-06-06 17:07:12,312 - INFO - Finished scraping. Total reviews collected: 400\n",
      "2025-06-06 17:07:12,348 - INFO - Saved reviews to /home/miki/Desktop/KIFIYA/week-2/customer-experience-analytics/data/boa_reviews.csv\n",
      "2025-06-06 17:07:12,352 - INFO - Starting review scrape for Dashen (App ID: com.dashen.dashensuperapp)\n",
      "2025-06-06 17:07:12,354 - INFO - Fetching 100 reviews... (collected so far: 0)\n",
      "2025-06-06 17:07:14,803 - INFO - Fetching 100 reviews... (collected so far: 100)\n",
      "2025-06-06 17:07:17,027 - INFO - Fetching 100 reviews... (collected so far: 200)\n",
      "2025-06-06 17:08:27,234 - INFO - Fetching 100 reviews... (collected so far: 300)\n",
      "2025-06-06 17:08:29,539 - INFO - Finished scraping. Total reviews collected: 400\n",
      "2025-06-06 17:08:29,581 - INFO - Saved reviews to /home/miki/Desktop/KIFIYA/week-2/customer-experience-analytics/data/dashen_reviews.csv\n"
     ]
    }
   ],
   "source": [
    "# Do the same for the other banks(BOA and Dashen)\n",
    "scrape_reviews(app_id = \"com.boa.boaMobileBanking\",\n",
    "               bank_name = \"BOA\",\n",
    "               total_reviews = 400,\n",
    "               lang= \"en\",\n",
    "               file_name = f\"{parent_directory}/data/boa_reviews.csv\",)\n",
    "\n",
    "scrape_reviews(app_id = \"com.dashen.dashensuperapp\",\n",
    "               bank_name = \"Dashen\",\n",
    "               total_reviews = 400,\n",
    "               lang= \"en\",\n",
    "               file_name = f\"{parent_directory}/data/dashen_reviews.csv\",)"
   ]
  },
  {
   "cell_type": "markdown",
   "id": "2b29527f",
   "metadata": {},
   "source": [
    "### Data cleaning"
   ]
  },
  {
   "cell_type": "code",
   "execution_count": 2,
   "id": "b8c02db1",
   "metadata": {},
   "outputs": [
    {
     "name": "stderr",
     "output_type": "stream",
     "text": [
      "2025-06-07 17:08:40,938 - INFO - Successfully loaded data from /home/miki/Desktop/KIFIYA/week-2/customer-experience-analytics/data/cbe_reviews.csv with shape (400, 11)\n"
     ]
    },
    {
     "data": {
      "text/html": [
       "<div>\n",
       "<style scoped>\n",
       "    .dataframe tbody tr th:only-of-type {\n",
       "        vertical-align: middle;\n",
       "    }\n",
       "\n",
       "    .dataframe tbody tr th {\n",
       "        vertical-align: top;\n",
       "    }\n",
       "\n",
       "    .dataframe thead th {\n",
       "        text-align: right;\n",
       "    }\n",
       "</style>\n",
       "<table border=\"1\" class=\"dataframe\">\n",
       "  <thead>\n",
       "    <tr style=\"text-align: right;\">\n",
       "      <th></th>\n",
       "      <th>reviewId</th>\n",
       "      <th>userName</th>\n",
       "      <th>userImage</th>\n",
       "      <th>content</th>\n",
       "      <th>score</th>\n",
       "      <th>thumbsUpCount</th>\n",
       "      <th>reviewCreatedVersion</th>\n",
       "      <th>at</th>\n",
       "      <th>replyContent</th>\n",
       "      <th>repliedAt</th>\n",
       "      <th>appVersion</th>\n",
       "    </tr>\n",
       "  </thead>\n",
       "  <tbody>\n",
       "    <tr>\n",
       "      <th>0</th>\n",
       "      <td>b12d0383-9b27-4e49-a94d-277a43b15800</td>\n",
       "      <td>Yesuf Ahmed</td>\n",
       "      <td>https://play-lh.googleusercontent.com/a/ACg8oc...</td>\n",
       "      <td>the app is proactive and a good connections.</td>\n",
       "      <td>5</td>\n",
       "      <td>0</td>\n",
       "      <td>5.1.0</td>\n",
       "      <td>2025-06-05 15:55:10</td>\n",
       "      <td>NaN</td>\n",
       "      <td>NaN</td>\n",
       "      <td>5.1.0</td>\n",
       "    </tr>\n",
       "    <tr>\n",
       "      <th>1</th>\n",
       "      <td>dd9f9e37-177a-46df-b877-d0edaa9aed29</td>\n",
       "      <td>Yonas Mekonnen</td>\n",
       "      <td>https://play-lh.googleusercontent.com/a-/ALV-U...</td>\n",
       "      <td>I cannot send to cbebirr app. through this app.</td>\n",
       "      <td>3</td>\n",
       "      <td>0</td>\n",
       "      <td>NaN</td>\n",
       "      <td>2025-06-05 11:12:49</td>\n",
       "      <td>NaN</td>\n",
       "      <td>NaN</td>\n",
       "      <td>NaN</td>\n",
       "    </tr>\n",
       "    <tr>\n",
       "      <th>2</th>\n",
       "      <td>8e34703c-203c-4180-8b32-bfd0b3f0c871</td>\n",
       "      <td>Yibrah Yebo</td>\n",
       "      <td>https://play-lh.googleusercontent.com/a/ACg8oc...</td>\n",
       "      <td>good</td>\n",
       "      <td>4</td>\n",
       "      <td>0</td>\n",
       "      <td>NaN</td>\n",
       "      <td>2025-06-05 10:21:59</td>\n",
       "      <td>NaN</td>\n",
       "      <td>NaN</td>\n",
       "      <td>NaN</td>\n",
       "    </tr>\n",
       "    <tr>\n",
       "      <th>3</th>\n",
       "      <td>6f0c7fa2-3ce1-4310-b135-54fe0cb9fccd</td>\n",
       "      <td>kibru tebeka</td>\n",
       "      <td>https://play-lh.googleusercontent.com/a-/ALV-U...</td>\n",
       "      <td>not functional</td>\n",
       "      <td>1</td>\n",
       "      <td>0</td>\n",
       "      <td>5.1.0</td>\n",
       "      <td>2025-06-05 07:38:12</td>\n",
       "      <td>NaN</td>\n",
       "      <td>NaN</td>\n",
       "      <td>5.1.0</td>\n",
       "    </tr>\n",
       "    <tr>\n",
       "      <th>4</th>\n",
       "      <td>f0dd744a-9409-4619-9800-7ea501571b09</td>\n",
       "      <td>Abreham Shiferaw</td>\n",
       "      <td>https://play-lh.googleusercontent.com/a/ACg8oc...</td>\n",
       "      <td>everytime you uninstall the app you have to re...</td>\n",
       "      <td>1</td>\n",
       "      <td>0</td>\n",
       "      <td>5.1.0</td>\n",
       "      <td>2025-06-04 21:33:36</td>\n",
       "      <td>NaN</td>\n",
       "      <td>NaN</td>\n",
       "      <td>5.1.0</td>\n",
       "    </tr>\n",
       "  </tbody>\n",
       "</table>\n",
       "</div>"
      ],
      "text/plain": [
       "                               reviewId          userName  \\\n",
       "0  b12d0383-9b27-4e49-a94d-277a43b15800       Yesuf Ahmed   \n",
       "1  dd9f9e37-177a-46df-b877-d0edaa9aed29    Yonas Mekonnen   \n",
       "2  8e34703c-203c-4180-8b32-bfd0b3f0c871       Yibrah Yebo   \n",
       "3  6f0c7fa2-3ce1-4310-b135-54fe0cb9fccd      kibru tebeka   \n",
       "4  f0dd744a-9409-4619-9800-7ea501571b09  Abreham Shiferaw   \n",
       "\n",
       "                                           userImage  \\\n",
       "0  https://play-lh.googleusercontent.com/a/ACg8oc...   \n",
       "1  https://play-lh.googleusercontent.com/a-/ALV-U...   \n",
       "2  https://play-lh.googleusercontent.com/a/ACg8oc...   \n",
       "3  https://play-lh.googleusercontent.com/a-/ALV-U...   \n",
       "4  https://play-lh.googleusercontent.com/a/ACg8oc...   \n",
       "\n",
       "                                             content  score  thumbsUpCount  \\\n",
       "0       the app is proactive and a good connections.      5              0   \n",
       "1    I cannot send to cbebirr app. through this app.      3              0   \n",
       "2                                               good      4              0   \n",
       "3                                     not functional      1              0   \n",
       "4  everytime you uninstall the app you have to re...      1              0   \n",
       "\n",
       "  reviewCreatedVersion                   at  replyContent  repliedAt  \\\n",
       "0                5.1.0  2025-06-05 15:55:10           NaN        NaN   \n",
       "1                  NaN  2025-06-05 11:12:49           NaN        NaN   \n",
       "2                  NaN  2025-06-05 10:21:59           NaN        NaN   \n",
       "3                5.1.0  2025-06-05 07:38:12           NaN        NaN   \n",
       "4                5.1.0  2025-06-04 21:33:36           NaN        NaN   \n",
       "\n",
       "  appVersion  \n",
       "0      5.1.0  \n",
       "1        NaN  \n",
       "2        NaN  \n",
       "3      5.1.0  \n",
       "4      5.1.0  "
      ]
     },
     "execution_count": 2,
     "metadata": {},
     "output_type": "execute_result"
    }
   ],
   "source": [
    "# Use load_reviews utility class to load reviews\n",
    "from scripts.load_csv import load_reviews\n",
    "\n",
    "cbe_reviews = load_reviews(filepath=f\"{parent_directory}/data/cbe_reviews.csv\")\n",
    "cbe_reviews.head()"
   ]
  },
  {
   "cell_type": "code",
   "execution_count": 3,
   "id": "62065bb1",
   "metadata": {},
   "outputs": [
    {
     "name": "stderr",
     "output_type": "stream",
     "text": [
      "2025-06-07 17:08:40,987 - INFO - Data cleaned. New shape: (400, 7)\n"
     ]
    },
    {
     "data": {
      "text/html": [
       "<div>\n",
       "<style scoped>\n",
       "    .dataframe tbody tr th:only-of-type {\n",
       "        vertical-align: middle;\n",
       "    }\n",
       "\n",
       "    .dataframe tbody tr th {\n",
       "        vertical-align: top;\n",
       "    }\n",
       "\n",
       "    .dataframe thead th {\n",
       "        text-align: right;\n",
       "    }\n",
       "</style>\n",
       "<table border=\"1\" class=\"dataframe\">\n",
       "  <thead>\n",
       "    <tr style=\"text-align: right;\">\n",
       "      <th></th>\n",
       "      <th>reviewId</th>\n",
       "      <th>userName</th>\n",
       "      <th>review</th>\n",
       "      <th>rating</th>\n",
       "      <th>date</th>\n",
       "      <th>bank</th>\n",
       "      <th>source</th>\n",
       "    </tr>\n",
       "  </thead>\n",
       "  <tbody>\n",
       "    <tr>\n",
       "      <th>0</th>\n",
       "      <td>b12d0383-9b27-4e49-a94d-277a43b15800</td>\n",
       "      <td>Yesuf Ahmed</td>\n",
       "      <td>the app is proactive and a good connections.</td>\n",
       "      <td>5</td>\n",
       "      <td>2025-06-05 15:55:10</td>\n",
       "      <td>CBE</td>\n",
       "      <td>Google Play Store</td>\n",
       "    </tr>\n",
       "    <tr>\n",
       "      <th>1</th>\n",
       "      <td>dd9f9e37-177a-46df-b877-d0edaa9aed29</td>\n",
       "      <td>Yonas Mekonnen</td>\n",
       "      <td>I cannot send to cbebirr app. through this app.</td>\n",
       "      <td>3</td>\n",
       "      <td>2025-06-05 11:12:49</td>\n",
       "      <td>CBE</td>\n",
       "      <td>Google Play Store</td>\n",
       "    </tr>\n",
       "    <tr>\n",
       "      <th>2</th>\n",
       "      <td>8e34703c-203c-4180-8b32-bfd0b3f0c871</td>\n",
       "      <td>Yibrah Yebo</td>\n",
       "      <td>good</td>\n",
       "      <td>4</td>\n",
       "      <td>2025-06-05 10:21:59</td>\n",
       "      <td>CBE</td>\n",
       "      <td>Google Play Store</td>\n",
       "    </tr>\n",
       "    <tr>\n",
       "      <th>3</th>\n",
       "      <td>6f0c7fa2-3ce1-4310-b135-54fe0cb9fccd</td>\n",
       "      <td>kibru tebeka</td>\n",
       "      <td>not functional</td>\n",
       "      <td>1</td>\n",
       "      <td>2025-06-05 07:38:12</td>\n",
       "      <td>CBE</td>\n",
       "      <td>Google Play Store</td>\n",
       "    </tr>\n",
       "    <tr>\n",
       "      <th>4</th>\n",
       "      <td>f0dd744a-9409-4619-9800-7ea501571b09</td>\n",
       "      <td>Abreham Shiferaw</td>\n",
       "      <td>everytime you uninstall the app you have to re...</td>\n",
       "      <td>1</td>\n",
       "      <td>2025-06-04 21:33:36</td>\n",
       "      <td>CBE</td>\n",
       "      <td>Google Play Store</td>\n",
       "    </tr>\n",
       "  </tbody>\n",
       "</table>\n",
       "</div>"
      ],
      "text/plain": [
       "                               reviewId          userName  \\\n",
       "0  b12d0383-9b27-4e49-a94d-277a43b15800       Yesuf Ahmed   \n",
       "1  dd9f9e37-177a-46df-b877-d0edaa9aed29    Yonas Mekonnen   \n",
       "2  8e34703c-203c-4180-8b32-bfd0b3f0c871       Yibrah Yebo   \n",
       "3  6f0c7fa2-3ce1-4310-b135-54fe0cb9fccd      kibru tebeka   \n",
       "4  f0dd744a-9409-4619-9800-7ea501571b09  Abreham Shiferaw   \n",
       "\n",
       "                                              review  rating  \\\n",
       "0       the app is proactive and a good connections.       5   \n",
       "1    I cannot send to cbebirr app. through this app.       3   \n",
       "2                                               good       4   \n",
       "3                                     not functional       1   \n",
       "4  everytime you uninstall the app you have to re...       1   \n",
       "\n",
       "                  date bank             source  \n",
       "0  2025-06-05 15:55:10  CBE  Google Play Store  \n",
       "1  2025-06-05 11:12:49  CBE  Google Play Store  \n",
       "2  2025-06-05 10:21:59  CBE  Google Play Store  \n",
       "3  2025-06-05 07:38:12  CBE  Google Play Store  \n",
       "4  2025-06-04 21:33:36  CBE  Google Play Store  "
      ]
     },
     "execution_count": 3,
     "metadata": {},
     "output_type": "execute_result"
    }
   ],
   "source": [
    "# Use clean_reviews utility function to clean cbe data\n",
    "import importlib\n",
    "from scripts import clean_reviews_data\n",
    "importlib.reload(clean_reviews_data)\n",
    "\n",
    "from scripts.clean_reviews_data import clean_reviews\n",
    "\n",
    "cbe_reviews_cleaned = clean_reviews(df=cbe_reviews,\n",
    "                                         drop_columns=[\"userImage\", \"thumbsUpCount\", \"reviewCreatedVersion\", \"replyContent\", \"repliedAt\", \"appVersion\"],\n",
    "                                         rename_columns={\"content\": \"review\", \"score\": \"rating\", \"at\": \"date\"},\n",
    "                                         new_columns={\"bank\": \"CBE\", \"source\": \"Google Play Store\"})\n",
    "cbe_reviews_cleaned.head()"
   ]
  },
  {
   "cell_type": "code",
   "execution_count": 4,
   "id": "35301ae1",
   "metadata": {},
   "outputs": [
    {
     "name": "stderr",
     "output_type": "stream",
     "text": [
      "2025-06-07 17:08:41,125 - INFO - Successfully loaded data from /home/miki/Desktop/KIFIYA/week-2/customer-experience-analytics/data/boa_reviews.csv with shape (400, 11)\n",
      "2025-06-07 17:08:41,138 - INFO - Successfully loaded data from /home/miki/Desktop/KIFIYA/week-2/customer-experience-analytics/data/dashen_reviews.csv with shape (400, 11)\n",
      "2025-06-07 17:08:41,143 - INFO - Data cleaned. New shape: (400, 7)\n",
      "2025-06-07 17:08:41,147 - INFO - Data cleaned. New shape: (400, 7)\n"
     ]
    }
   ],
   "source": [
    "# Do the same procedures for reviews from BOA and dashen\n",
    "boa_reviews = load_reviews(filepath=f\"{parent_directory}/data/boa_reviews.csv\")\n",
    "dashen_reviews = load_reviews(filepath=f\"{parent_directory}/data/dashen_reviews.csv\")\n",
    "\n",
    "boa_reviews_cleaned = clean_reviews(df=boa_reviews,\n",
    "                                         drop_columns=[\"userImage\", \"thumbsUpCount\", \"reviewCreatedVersion\", \"replyContent\", \"repliedAt\", \"appVersion\"],\n",
    "                                         rename_columns={\"content\": \"review\", \"score\": \"rating\", \"at\": \"date\"},\n",
    "                                         new_columns={\"bank\": \"BOA\", \"source\": \"Google Play Store\"})\n",
    "\n",
    "dashen_reviews_cleaned = clean_reviews(df=dashen_reviews,\n",
    "                                         drop_columns=[\"userImage\", \"thumbsUpCount\", \"reviewCreatedVersion\", \"replyContent\", \"repliedAt\", \"appVersion\"],\n",
    "                                         rename_columns={\"content\": \"review\", \"score\": \"rating\", \"at\": \"date\"},\n",
    "                                         new_columns={\"bank\": \"Dashen\", \"source\": \"Google Play Store\"})"
   ]
  },
  {
   "cell_type": "code",
   "execution_count": 5,
   "id": "aff583c9",
   "metadata": {},
   "outputs": [
    {
     "data": {
      "text/plain": [
       "(1200, 7)"
      ]
     },
     "execution_count": 5,
     "metadata": {},
     "output_type": "execute_result"
    }
   ],
   "source": [
    "# Combine data and inspect missing values\n",
    "import pandas as pd\n",
    "\n",
    "combined_df = pd.concat([cbe_reviews_cleaned, boa_reviews_cleaned, dashen_reviews_cleaned], ignore_index=True)\n",
    "combined_df.shape"
   ]
  },
  {
   "cell_type": "code",
   "execution_count": 6,
   "id": "a88253e4",
   "metadata": {},
   "outputs": [
    {
     "data": {
      "text/plain": [
       "reviewId    0\n",
       "userName    0\n",
       "review      0\n",
       "rating      0\n",
       "date        0\n",
       "bank        0\n",
       "source      0\n",
       "dtype: int64"
      ]
     },
     "execution_count": 6,
     "metadata": {},
     "output_type": "execute_result"
    }
   ],
   "source": [
    "combined_df.isnull().sum()"
   ]
  },
  {
   "cell_type": "code",
   "execution_count": 7,
   "id": "ec37c2c9",
   "metadata": {},
   "outputs": [],
   "source": [
    "# Data is clean and complete, so save to a new file\n",
    "combined_df.to_csv(f\"{parent_directory}/data/all_reviews.csv\")"
   ]
  }
 ],
 "metadata": {
  "kernelspec": {
   "display_name": "venv",
   "language": "python",
   "name": "python3"
  },
  "language_info": {
   "codemirror_mode": {
    "name": "ipython",
    "version": 3
   },
   "file_extension": ".py",
   "mimetype": "text/x-python",
   "name": "python",
   "nbconvert_exporter": "python",
   "pygments_lexer": "ipython3",
   "version": "3.12.3"
  }
 },
 "nbformat": 4,
 "nbformat_minor": 5
}

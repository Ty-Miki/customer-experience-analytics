{
 "cells": [
  {
   "cell_type": "markdown",
   "id": "9c1ad018",
   "metadata": {},
   "source": [
    "- **This notebook will load the reviews and save them to a file using the *GooglePlayReviewScraper* utility class and performs initial data cleaning and inspection procedures**"
   ]
  },
  {
   "cell_type": "code",
   "execution_count": 8,
   "id": "d4f7b2fe",
   "metadata": {},
   "outputs": [
    {
     "data": {
      "text/plain": [
       "['/home/miki/Desktop/KIFIYA/week-2/customer-experience-analytics',\n",
       " '/home/miki/Desktop/KIFIYA/week-2',\n",
       " '/usr/lib/python312.zip',\n",
       " '/usr/lib/python3.12',\n",
       " '/usr/lib/python3.12/lib-dynload',\n",
       " '',\n",
       " '/home/miki/Desktop/KIFIYA/week-2/customer-experience-analytics/venv/lib/python3.12/site-packages']"
      ]
     },
     "execution_count": 8,
     "metadata": {},
     "output_type": "execute_result"
    }
   ],
   "source": [
    "# Add the parent directory to sys.path\n",
    "import sys, os\n",
    "from pathlib import Path\n",
    "\n",
    "parent_directory = Path(os.getcwd()).parent\n",
    "sys.path.insert(0, str(parent_directory))\n",
    "sys.path"
   ]
  },
  {
   "cell_type": "code",
   "execution_count": 12,
   "id": "80efda97",
   "metadata": {},
   "outputs": [
    {
     "name": "stderr",
     "output_type": "stream",
     "text": [
      "2025-06-06 16:58:34,144 - INFO - Starting review scrape for CBE (App ID: com.combanketh.mobilebanking)\n",
      "2025-06-06 16:58:34,145 - INFO - Fetching 100 reviews... (collected so far: 0)\n",
      "2025-06-06 16:58:38,180 - INFO - Fetching 100 reviews... (collected so far: 100)\n",
      "2025-06-06 16:58:41,319 - INFO - Fetching 100 reviews... (collected so far: 200)\n",
      "2025-06-06 16:58:44,895 - INFO - Fetching 100 reviews... (collected so far: 300)\n",
      "2025-06-06 16:58:53,541 - INFO - Finished scraping. Total reviews collected: 400\n",
      "2025-06-06 16:58:53,567 - INFO - Saved reviews to /home/miki/Desktop/KIFIYA/week-2/customer-experience-analytics/data/cbe_reviews.csv\n"
     ]
    }
   ],
   "source": [
    "# Import scrape reviews and scrape reviews from each bank\n",
    "from scripts.scrape_reviews import main as scrape_reviews\n",
    "\n",
    "scrape_reviews(app_id = \"com.combanketh.mobilebanking\",\n",
    "               bank_name = \"CBE\",\n",
    "               total_reviews = 400,\n",
    "               lang= \"en\",\n",
    "               file_name = f\"{parent_directory}/data/cbe_reviews.csv\",)"
   ]
  },
  {
   "cell_type": "code",
   "execution_count": 13,
   "id": "0756462e",
   "metadata": {},
   "outputs": [
    {
     "name": "stderr",
     "output_type": "stream",
     "text": [
      "2025-06-06 17:07:02,764 - INFO - Starting review scrape for BOA (App ID: com.boa.boaMobileBanking)\n",
      "2025-06-06 17:07:02,766 - INFO - Fetching 100 reviews... (collected so far: 0)\n",
      "2025-06-06 17:07:05,214 - INFO - Fetching 100 reviews... (collected so far: 100)\n",
      "2025-06-06 17:07:07,566 - INFO - Fetching 100 reviews... (collected so far: 200)\n",
      "2025-06-06 17:07:09,389 - INFO - Fetching 100 reviews... (collected so far: 300)\n",
      "2025-06-06 17:07:12,312 - INFO - Finished scraping. Total reviews collected: 400\n",
      "2025-06-06 17:07:12,348 - INFO - Saved reviews to /home/miki/Desktop/KIFIYA/week-2/customer-experience-analytics/data/boa_reviews.csv\n",
      "2025-06-06 17:07:12,352 - INFO - Starting review scrape for Dashen (App ID: com.dashen.dashensuperapp)\n",
      "2025-06-06 17:07:12,354 - INFO - Fetching 100 reviews... (collected so far: 0)\n",
      "2025-06-06 17:07:14,803 - INFO - Fetching 100 reviews... (collected so far: 100)\n",
      "2025-06-06 17:07:17,027 - INFO - Fetching 100 reviews... (collected so far: 200)\n",
      "2025-06-06 17:08:27,234 - INFO - Fetching 100 reviews... (collected so far: 300)\n",
      "2025-06-06 17:08:29,539 - INFO - Finished scraping. Total reviews collected: 400\n",
      "2025-06-06 17:08:29,581 - INFO - Saved reviews to /home/miki/Desktop/KIFIYA/week-2/customer-experience-analytics/data/dashen_reviews.csv\n"
     ]
    }
   ],
   "source": [
    "# Do the same for the other banks(BOA and Dashen)\n",
    "scrape_reviews(app_id = \"com.boa.boaMobileBanking\",\n",
    "               bank_name = \"BOA\",\n",
    "               total_reviews = 400,\n",
    "               lang= \"en\",\n",
    "               file_name = f\"{parent_directory}/data/boa_reviews.csv\",)\n",
    "\n",
    "scrape_reviews(app_id = \"com.dashen.dashensuperapp\",\n",
    "               bank_name = \"Dashen\",\n",
    "               total_reviews = 400,\n",
    "               lang= \"en\",\n",
    "               file_name = f\"{parent_directory}/data/dashen_reviews.csv\",)"
   ]
  }
 ],
 "metadata": {
  "kernelspec": {
   "display_name": "venv",
   "language": "python",
   "name": "python3"
  },
  "language_info": {
   "codemirror_mode": {
    "name": "ipython",
    "version": 3
   },
   "file_extension": ".py",
   "mimetype": "text/x-python",
   "name": "python",
   "nbconvert_exporter": "python",
   "pygments_lexer": "ipython3",
   "version": "3.12.3"
  }
 },
 "nbformat": 4,
 "nbformat_minor": 5
}
